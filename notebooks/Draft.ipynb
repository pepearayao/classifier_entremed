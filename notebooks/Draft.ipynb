{
 "cells": [
  {
   "cell_type": "code",
   "execution_count": 1,
   "id": "9c4db632",
   "metadata": {},
   "outputs": [],
   "source": [
    "import re\n",
    "import pandas as pd\n",
    "import unittest\n",
    "from collections import Counter\n",
    "import json\n",
    "import os"
   ]
  },
  {
   "cell_type": "code",
   "execution_count": 2,
   "id": "4230c66b",
   "metadata": {},
   "outputs": [],
   "source": [
    "df = pd.read_csv('../data/raw_jobs.csv')"
   ]
  },
  {
   "cell_type": "code",
   "execution_count": 3,
   "id": "347f5cda",
   "metadata": {},
   "outputs": [],
   "source": [
    "def simple_regex_search(pattern:str,in_string:str):\n",
    "    return re.search(pattern,in_string,re.IGNORECASE)\n",
    "\n",
    "assert simple_regex_search('t[eé]cnic|t[eé]c.?|tec','se busca técnico en enfermería') != None"
   ]
  },
  {
   "cell_type": "code",
   "execution_count": 4,
   "id": "06f99a90",
   "metadata": {},
   "outputs": [],
   "source": [
    "def multiple_patterns_match(patterns:list, in_string:str):\n",
    "    return simple_regex_search(\"|\".join(patterns),in_string)\n",
    "\n",
    "assert multiple_patterns_match(['t[eé]cnic','t[eé]c.?','tec'],'se busca técnico en enfermería') != None"
   ]
  },
  {
   "cell_type": "code",
   "execution_count": 5,
   "id": "2fcd9400",
   "metadata": {},
   "outputs": [],
   "source": [
    "def find_all_matches(target_classes:dict, source_data:list):\n",
    "    normalized_classes = []\n",
    "    for raw_data_item in source_data:\n",
    "        for target_class, patterns in target_classes.items():\n",
    "            if isinstance(patterns, dict):\n",
    "                if patterns.get('Level1'):\n",
    "                    result_match = find_all_matches({target_class:patterns['Level1']}, [raw_data_item])\n",
    "                    if result_match: normalized_classes.append(*result_match)\n",
    "                if patterns.get('Level2'):\n",
    "                    patterns_first_half = patterns['Level2']['Patterns']\n",
    "                    patterns_second_half = patterns['Level2']['Patterns_lvl2']\n",
    "                    if multiple_patterns_match(patterns_first_half, raw_data_item):\n",
    "                        result_match = find_all_matches({target_class:patterns_second_half},[raw_data_item])\n",
    "                        if result_match: normalized_classes.append(*result_match)\n",
    "            if isinstance(patterns, list):\n",
    "                if multiple_patterns_match(patterns, raw_data_item): normalized_classes.append(target_class)\n",
    "    return normalized_classes\n"
   ]
  },
  {
   "cell_type": "code",
   "execution_count": 7,
   "id": "960bec79",
   "metadata": {},
   "outputs": [
    {
     "data": {
      "text/plain": [
       "{'Enfermería': 1, 'Kinesiología': 1, 'TENS': 1}"
      ]
     },
     "execution_count": 7,
     "metadata": {},
     "output_type": "execute_result"
    }
   ],
   "source": [
    "specialties_dict = {\n",
    "    'Enfermería':['enfermer.?','\\beu\\b'],\n",
    "    'Kinesiología':['kinesi.log.?','kinesiolog.?','fisioterapia','mesoterapia','erg.nomo','ergono[ií]a'],\n",
    "    'TENS':{\n",
    "        'Level1': [r'tens?\\b'],\n",
    "        'Level2': {\n",
    "            'Patterns': ['t[eé]cnic','t[eé]c.?','tec'],\n",
    "            'Patterns_lvl2': ['enfermer.?']\n",
    "        }\n",
    "    }\n",
    "}\n",
    "result = find_all_matches(specialties_dict,\n",
    "    ['Se busca kinesiologo o técnico en enfermería para terapia intensiva',\n",
    "     ])\n",
    "dict(Counter(result))"
   ]
  },
  {
   "cell_type": "code",
   "execution_count": 16,
   "id": "815fe50d",
   "metadata": {},
   "outputs": [],
   "source": [
    "def load_config_file(file_name):\n",
    "    with open(os.path.join('..','normalizer','config_files', f\"{file_name}.json\")) as f:\n",
    "        d = json.load(f)\n",
    "        return d"
   ]
  },
  {
   "cell_type": "code",
   "execution_count": 48,
   "id": "8dfb95fc",
   "metadata": {},
   "outputs": [],
   "source": [
    "def find_specialty(title:str = None, requirements:str = None, pills:str = None):\n",
    "    specialties = load_config_file('specialties')\n",
    "    target_data = []\n",
    "    if title:\n",
    "        target_data.append(title)\n",
    "    if requirements:\n",
    "        target_data.append(requirements)\n",
    "    if pills:\n",
    "        target_data.append(pills)\n",
    "\n",
    "    specialties_detected = dict(Counter(find_all_matches(specialties, target_data)))\n",
    "\n",
    "\n",
    "\n",
    "    return specialties_detected"
   ]
  },
  {
   "cell_type": "code",
   "execution_count": 56,
   "id": "fd3a6d9c",
   "metadata": {},
   "outputs": [],
   "source": [
    "specialties_detected = find_specialty(\n",
    "    title='Enfermera / Técnico en Enfermería - Especialista Equipos Médicos/Pabellón',\n",
    "    requirements='Requisitos: - Título de Enfermera  / Técnico en Enfermería - Experiencia en pabellón - Experiencia en equipos médicos - Disponibilidad para trabajar en turnos rotativos',\n",
    "    )"
   ]
  },
  {
   "cell_type": "code",
   "execution_count": 57,
   "id": "dae9ff50",
   "metadata": {},
   "outputs": [],
   "source": [
    "final = dict(specialties_detected)\n",
    "if final['TENS'] == final['Enfermería']:\n",
    "    final['TENS'] = 0"
   ]
  },
  {
   "cell_type": "code",
   "execution_count": 58,
   "id": "116f809f",
   "metadata": {},
   "outputs": [
    {
     "data": {
      "text/plain": [
       "['Enfermería']"
      ]
     },
     "execution_count": 58,
     "metadata": {},
     "output_type": "execute_result"
    }
   ],
   "source": [
    "[key for key,times in final.items() if times > 0]"
   ]
  },
  {
   "cell_type": "code",
   "execution_count": 59,
   "id": "1adb6670",
   "metadata": {},
   "outputs": [
    {
     "data": {
      "text/plain": [
       "{'Enfermería': 2, 'TENS': 0}"
      ]
     },
     "execution_count": 59,
     "metadata": {},
     "output_type": "execute_result"
    }
   ],
   "source": [
    "final"
   ]
  },
  {
   "cell_type": "code",
   "execution_count": null,
   "id": "355bced1",
   "metadata": {},
   "outputs": [],
   "source": []
  },
  {
   "cell_type": "code",
   "execution_count": null,
   "id": "1056410d",
   "metadata": {},
   "outputs": [],
   "source": []
  }
 ],
 "metadata": {
  "kernelspec": {
   "display_name": "Python 3 (ipykernel)",
   "language": "python",
   "name": "python3"
  },
  "language_info": {
   "codemirror_mode": {
    "name": "ipython",
    "version": 3
   },
   "file_extension": ".py",
   "mimetype": "text/x-python",
   "name": "python",
   "nbconvert_exporter": "python",
   "pygments_lexer": "ipython3",
   "version": "3.10.6"
  },
  "toc": {
   "base_numbering": 1,
   "nav_menu": {},
   "number_sections": true,
   "sideBar": true,
   "skip_h1_title": false,
   "title_cell": "Table of Contents",
   "title_sidebar": "Contents",
   "toc_cell": false,
   "toc_position": {},
   "toc_section_display": true,
   "toc_window_display": false
  }
 },
 "nbformat": 4,
 "nbformat_minor": 5
}
