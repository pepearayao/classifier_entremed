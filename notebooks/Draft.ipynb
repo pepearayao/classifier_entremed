{
 "cells": [
  {
   "cell_type": "code",
   "execution_count": 57,
   "id": "9c4db632",
   "metadata": {},
   "outputs": [],
   "source": [
    "import re\n",
    "import pandas as pd\n",
    "import unittest\n",
    "from collections import Counter\n",
    "import json\n",
    "import os"
   ]
  },
  {
   "cell_type": "code",
   "execution_count": null,
   "id": "4230c66b",
   "metadata": {},
   "outputs": [],
   "source": [
    "df = pd.read_csv('../data/raw_jobs.csv')"
   ]
  },
  {
   "cell_type": "code",
   "execution_count": 2,
   "id": "347f5cda",
   "metadata": {},
   "outputs": [],
   "source": [
    "def simple_regex_search(pattern:str,in_string:str):\n",
    "    return re.search(pattern,in_string,re.IGNORECASE)\n",
    "\n",
    "assert simple_regex_search('t[eé]cnic|t[eé]c.?|tec','se busca técnico en enfermería') != None"
   ]
  },
  {
   "cell_type": "code",
   "execution_count": 3,
   "id": "06f99a90",
   "metadata": {},
   "outputs": [],
   "source": [
    "def multiple_patterns_match(patterns:list, in_string:str):\n",
    "    return simple_regex_search(\"|\".join(patterns),in_string)\n",
    "\n",
    "assert multiple_patterns_match(['t[eé]cnic','t[eé]c.?','tec'],'se busca técnico en enfermería') != None"
   ]
  },
  {
   "cell_type": "code",
   "execution_count": 44,
   "id": "2fcd9400",
   "metadata": {},
   "outputs": [],
   "source": [
    "def find_all_matches(target_classes:dict, source_data:list):\n",
    "    normalized_classes = []\n",
    "    for raw_data_item in source_data:\n",
    "        for target_class, patterns in target_classes.items():    \n",
    "            if isinstance(patterns, dict):\n",
    "                if patterns.get('Level1'):\n",
    "                    result_match = find_all_matches({target_class:patterns['Level1']}, [raw_data_item])\n",
    "                    if result_match: normalized_classes.append(*result_match)\n",
    "                if patterns.get('Level2'):\n",
    "                    patterns_first_half = patterns['Level2']['Patterns']\n",
    "                    patterns_second_half = patterns['Level2']['Patterns_lvl2']\n",
    "                    if multiple_patterns_match(patterns_first_half, raw_data_item):\n",
    "                        result_match = find_all_matches({target_class:patterns_second_half},[raw_data_item])\n",
    "                        if result_match: normalized_classes.append(*result_match)\n",
    "            if isinstance(patterns, list):\n",
    "                if multiple_patterns_match(patterns, raw_data_item): normalized_classes.append(target_class) \n",
    "    return normalized_classes\n",
    "\n"
   ]
  },
  {
   "cell_type": "code",
   "execution_count": 55,
   "id": "960bec79",
   "metadata": {},
   "outputs": [
    {
     "data": {
      "text/plain": [
       "{'Enfermería': 1, 'Kinesiología': 1, 'TENS': 1}"
      ]
     },
     "execution_count": 55,
     "metadata": {},
     "output_type": "execute_result"
    }
   ],
   "source": [
    "specialties_dict = {\n",
    "    'Enfermería':['enfermer.?','\\beu\\b'],\n",
    "    'Kinesiología':['kinesi.log.?','kinesiolog.?','fisioterapia','mesoterapia','erg.nomo','ergono[ií]a'],\n",
    "    'TENS':{\n",
    "        'Level1': [r'tens?\\b'],\n",
    "        'Level2': {\n",
    "            'Patterns': ['t[eé]cnic','t[eé]c.?','tec'],\n",
    "            'Patterns_lvl2': ['enfermer.?']\n",
    "        }\n",
    "    }\n",
    "}\n",
    "result = find_all_matches(d, \n",
    "    ['Se busca kinesiologo o técnico en enfermería para terapia intensiva', \n",
    "     ])\n",
    "dict(Counter(result))"
   ]
  },
  {
   "cell_type": "code",
   "execution_count": 54,
   "id": "72611a27",
   "metadata": {},
   "outputs": [
    {
     "name": "stdout",
     "output_type": "stream",
     "text": [
      "['enfermer.?', '\\x08eu\\x08']\n"
     ]
    }
   ],
   "source": [
    "with open('../normalizer/config/specialties.json') as f:\n",
    "    d = json.load(f)\n",
    "    print(d['Enfermería'])"
   ]
  },
  {
   "cell_type": "code",
   "execution_count": 58,
   "id": "4e5f09ed",
   "metadata": {},
   "outputs": [
    {
     "data": {
      "text/plain": [
       "'/Users/pepe/.lewagon/mlops/data'"
      ]
     },
     "execution_count": 58,
     "metadata": {},
     "output_type": "execute_result"
    }
   ],
   "source": [
    "os.path.join(os.path.expanduser('~'), \".lewagon\", \"mlops\", \"data\")"
   ]
  },
  {
   "cell_type": "code",
   "execution_count": 64,
   "id": "d1b46d36",
   "metadata": {},
   "outputs": [
    {
     "ename": "TypeError",
     "evalue": "relpath() missing 1 required positional argument: 'path'",
     "output_type": "error",
     "traceback": [
      "\u001b[0;31m---------------------------------------------------------------------------\u001b[0m",
      "\u001b[0;31mTypeError\u001b[0m                                 Traceback (most recent call last)",
      "Cell \u001b[0;32mIn [64], line 1\u001b[0m\n\u001b[0;32m----> 1\u001b[0m \u001b[43mos\u001b[49m\u001b[38;5;241;43m.\u001b[39;49m\u001b[43mpath\u001b[49m\u001b[38;5;241;43m.\u001b[39;49m\u001b[43mrelpath\u001b[49m\u001b[43m(\u001b[49m\u001b[43m)\u001b[49m\n",
      "\u001b[0;31mTypeError\u001b[0m: relpath() missing 1 required positional argument: 'path'"
     ]
    }
   ],
   "source": [
    "os.path.dirname(__file__)"
   ]
  },
  {
   "cell_type": "code",
   "execution_count": 65,
   "id": "270c1f5a",
   "metadata": {
    "scrolled": true
   },
   "outputs": [
    {
     "ename": "NameError",
     "evalue": "name '__file__' is not defined",
     "output_type": "error",
     "traceback": [
      "\u001b[0;31m---------------------------------------------------------------------------\u001b[0m",
      "\u001b[0;31mNameError\u001b[0m                                 Traceback (most recent call last)",
      "Cell \u001b[0;32mIn [65], line 1\u001b[0m\n\u001b[0;32m----> 1\u001b[0m \u001b[38;5;18;43m__file__\u001b[39;49m\n",
      "\u001b[0;31mNameError\u001b[0m: name '__file__' is not defined"
     ]
    }
   ],
   "source": []
  },
  {
   "cell_type": "code",
   "execution_count": null,
   "id": "1dcc9500",
   "metadata": {},
   "outputs": [],
   "source": []
  },
  {
   "cell_type": "code",
   "execution_count": null,
   "id": "8dfb95fc",
   "metadata": {},
   "outputs": [],
   "source": []
  }
 ],
 "metadata": {
  "kernelspec": {
   "display_name": "Python 3 (ipykernel)",
   "language": "python",
   "name": "python3"
  },
  "language_info": {
   "codemirror_mode": {
    "name": "ipython",
    "version": 3
   },
   "file_extension": ".py",
   "mimetype": "text/x-python",
   "name": "python",
   "nbconvert_exporter": "python",
   "pygments_lexer": "ipython3",
   "version": "3.10.6"
  },
  "toc": {
   "base_numbering": 1,
   "nav_menu": {},
   "number_sections": true,
   "sideBar": true,
   "skip_h1_title": false,
   "title_cell": "Table of Contents",
   "title_sidebar": "Contents",
   "toc_cell": false,
   "toc_position": {},
   "toc_section_display": true,
   "toc_window_display": false
  }
 },
 "nbformat": 4,
 "nbformat_minor": 5
}
