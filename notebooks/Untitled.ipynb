{
 "cells": [
  {
   "cell_type": "code",
   "execution_count": 1,
   "id": "d76e198e",
   "metadata": {},
   "outputs": [],
   "source": [
    "import pandas as pd"
   ]
  },
  {
   "cell_type": "code",
   "execution_count": 2,
   "id": "6baf5d0d",
   "metadata": {},
   "outputs": [],
   "source": [
    "df = pd.read_csv('../data/raw_jobs.csv')"
   ]
  },
  {
   "cell_type": "code",
   "execution_count": 5,
   "id": "0eff182a",
   "metadata": {},
   "outputs": [
    {
     "name": "stdout",
     "output_type": "stream",
     "text": [
      "<class 'pandas.core.frame.DataFrame'>\n",
      "RangeIndex: 2236 entries, 0 to 2235\n",
      "Data columns (total 26 columns):\n",
      " #   Column             Non-Null Count  Dtype  \n",
      "---  ------             --------------  -----  \n",
      " 0   id                 2236 non-null   int64  \n",
      " 1   title              2236 non-null   object \n",
      " 2   source_url         2236 non-null   object \n",
      " 3   posting_url        2236 non-null   object \n",
      " 4   geolocalization    2236 non-null   object \n",
      " 5   company            2236 non-null   object \n",
      " 6   salary             1148 non-null   object \n",
      " 7   experience         288 non-null    object \n",
      " 8   work_schedule      1990 non-null   object \n",
      " 9   shift_type         0 non-null      float64\n",
      " 10  employment_type    1439 non-null   object \n",
      " 11  slots_avaliable    0 non-null      float64\n",
      " 12  urgency_required   2236 non-null   bool   \n",
      " 13  seniority_level    0 non-null      float64\n",
      " 14  driving_level      0 non-null      float64\n",
      " 15  job_site           2236 non-null   object \n",
      " 16  description        2027 non-null   object \n",
      " 17  requisites         898 non-null    object \n",
      " 18  pills              2027 non-null   object \n",
      " 19  inclusive_posting  2236 non-null   bool   \n",
      " 20  published_date     2236 non-null   object \n",
      " 21  closing_date       288 non-null    object \n",
      " 22  scanned_date       2236 non-null   object \n",
      " 23  normalized_date    0 non-null      float64\n",
      " 24  detailed_scan      2236 non-null   bool   \n",
      " 25  filtered_posting   2236 non-null   bool   \n",
      "dtypes: bool(4), float64(5), int64(1), object(16)\n",
      "memory usage: 393.2+ KB\n"
     ]
    }
   ],
   "source": [
    "df.info()"
   ]
  },
  {
   "cell_type": "code",
   "execution_count": 16,
   "id": "5fa7ac65",
   "metadata": {},
   "outputs": [
    {
     "data": {
      "text/html": [
       "<div>\n",
       "<style scoped>\n",
       "    .dataframe tbody tr th:only-of-type {\n",
       "        vertical-align: middle;\n",
       "    }\n",
       "\n",
       "    .dataframe tbody tr th {\n",
       "        vertical-align: top;\n",
       "    }\n",
       "\n",
       "    .dataframe thead th {\n",
       "        text-align: right;\n",
       "    }\n",
       "</style>\n",
       "<table border=\"1\" class=\"dataframe\">\n",
       "  <thead>\n",
       "    <tr style=\"text-align: right;\">\n",
       "      <th></th>\n",
       "      <th>scanned_date</th>\n",
       "    </tr>\n",
       "  </thead>\n",
       "  <tbody>\n",
       "    <tr>\n",
       "      <th>0</th>\n",
       "      <td>2024-04-26 18:11:20.089737+00:00</td>\n",
       "    </tr>\n",
       "    <tr>\n",
       "      <th>1</th>\n",
       "      <td>2024-04-26 18:10:33.996453+00:00</td>\n",
       "    </tr>\n",
       "    <tr>\n",
       "      <th>2</th>\n",
       "      <td>2024-04-26 18:10:34.119754+00:00</td>\n",
       "    </tr>\n",
       "    <tr>\n",
       "      <th>3</th>\n",
       "      <td>2024-04-26 18:10:34.240563+00:00</td>\n",
       "    </tr>\n",
       "    <tr>\n",
       "      <th>4</th>\n",
       "      <td>2024-04-26 18:10:34.755135+00:00</td>\n",
       "    </tr>\n",
       "    <tr>\n",
       "      <th>...</th>\n",
       "      <td>...</td>\n",
       "    </tr>\n",
       "    <tr>\n",
       "      <th>2231</th>\n",
       "      <td>2024-05-02 22:22:22.698308+00:00</td>\n",
       "    </tr>\n",
       "    <tr>\n",
       "      <th>2232</th>\n",
       "      <td>2024-05-02 22:22:22.782372+00:00</td>\n",
       "    </tr>\n",
       "    <tr>\n",
       "      <th>2233</th>\n",
       "      <td>2024-05-02 23:41:35.425949+00:00</td>\n",
       "    </tr>\n",
       "    <tr>\n",
       "      <th>2234</th>\n",
       "      <td>2024-05-02 23:41:44.162840+00:00</td>\n",
       "    </tr>\n",
       "    <tr>\n",
       "      <th>2235</th>\n",
       "      <td>2024-05-03 10:02:33.626573+00:00</td>\n",
       "    </tr>\n",
       "  </tbody>\n",
       "</table>\n",
       "<p>2236 rows × 1 columns</p>\n",
       "</div>"
      ],
      "text/plain": [
       "                          scanned_date\n",
       "0     2024-04-26 18:11:20.089737+00:00\n",
       "1     2024-04-26 18:10:33.996453+00:00\n",
       "2     2024-04-26 18:10:34.119754+00:00\n",
       "3     2024-04-26 18:10:34.240563+00:00\n",
       "4     2024-04-26 18:10:34.755135+00:00\n",
       "...                                ...\n",
       "2231  2024-05-02 22:22:22.698308+00:00\n",
       "2232  2024-05-02 22:22:22.782372+00:00\n",
       "2233  2024-05-02 23:41:35.425949+00:00\n",
       "2234  2024-05-02 23:41:44.162840+00:00\n",
       "2235  2024-05-03 10:02:33.626573+00:00\n",
       "\n",
       "[2236 rows x 1 columns]"
      ]
     },
     "execution_count": 16,
     "metadata": {},
     "output_type": "execute_result"
    }
   ],
   "source": [
    "df[['scanned_date']]"
   ]
  },
  {
   "cell_type": "code",
   "execution_count": 20,
   "id": "56ac07fe",
   "metadata": {},
   "outputs": [
    {
     "data": {
      "text/plain": [
       "0      2024-04-26 18:11:20.089737+00:00\n",
       "1      2024-04-26 18:10:33.996453+00:00\n",
       "2      2024-04-26 18:10:34.119754+00:00\n",
       "3      2024-04-26 18:10:34.240563+00:00\n",
       "4      2024-04-26 18:10:34.755135+00:00\n",
       "                     ...               \n",
       "2231   2024-05-02 22:22:22.698308+00:00\n",
       "2232   2024-05-02 22:22:22.782372+00:00\n",
       "2233   2024-05-02 23:41:35.425949+00:00\n",
       "2234   2024-05-02 23:41:44.162840+00:00\n",
       "2235   2024-05-03 10:02:33.626573+00:00\n",
       "Name: scanned_date, Length: 2236, dtype: datetime64[ns, UTC]"
      ]
     },
     "execution_count": 20,
     "metadata": {},
     "output_type": "execute_result"
    }
   ],
   "source": [
    "pd.to_datetime(df['scanned_date'])"
   ]
  },
  {
   "cell_type": "code",
   "execution_count": null,
   "id": "4194229d",
   "metadata": {},
   "outputs": [],
   "source": []
  }
 ],
 "metadata": {
  "kernelspec": {
   "display_name": "Python 3 (ipykernel)",
   "language": "python",
   "name": "python3"
  },
  "language_info": {
   "codemirror_mode": {
    "name": "ipython",
    "version": 3
   },
   "file_extension": ".py",
   "mimetype": "text/x-python",
   "name": "python",
   "nbconvert_exporter": "python",
   "pygments_lexer": "ipython3",
   "version": "3.10.6"
  },
  "toc": {
   "base_numbering": 1,
   "nav_menu": {},
   "number_sections": true,
   "sideBar": true,
   "skip_h1_title": false,
   "title_cell": "Table of Contents",
   "title_sidebar": "Contents",
   "toc_cell": false,
   "toc_position": {},
   "toc_section_display": true,
   "toc_window_display": false
  }
 },
 "nbformat": 4,
 "nbformat_minor": 5
}
